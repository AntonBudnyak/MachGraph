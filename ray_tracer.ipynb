{
 "cells": [
  {
   "cell_type": "code",
   "execution_count": 271,
   "metadata": {},
   "outputs": [],
   "source": [
    "import numpy as np\n",
    "import matplotlib.pyplot as plt\n",
    "import matplotlib.image as mpimg\n",
    "from tqdm import tqdm"
   ]
  },
  {
   "cell_type": "code",
   "execution_count": 272,
   "metadata": {},
   "outputs": [],
   "source": [
    "class vec():\n",
    "    def __init__(self, x, y, z):\n",
    "        (self.x, self.y, self.z) = (x, y, z)\n",
    "    \n",
    "    def __mul__(self, other):\n",
    "        return vec(self.x * other, self.y * other, self.z * other)\n",
    "    \n",
    "    def __add__(self, other):\n",
    "        return vec(self.x + other.x, self.y + other.y, self.z + other.z)\n",
    "    \n",
    "    def __sub__(self, other):\n",
    "        return vec(self.x - other.x, self.y - other.y, self.z - other.z)\n",
    "    \n",
    "    def dot(self, other):\n",
    "        return (self.x * other.x) + (self.y * other.y) + (self.z * other.z)\n",
    "    \n",
    "    def __abs__(self):\n",
    "        return self.dot(self)\n",
    "    \n",
    "    def length(self):\n",
    "        return np.sqrt(self.__abs__())\n",
    "       \n",
    "    def normalize(self):\n",
    "        return self * (1/self.length()) if self.length() else self\n",
    "    \n",
    "    def cosine(self, other, step =1):\n",
    "        return (self.dot(other)*(1/(self.length()*other.length())))**step\n",
    "      \n",
    "    def components(self):\n",
    "        return (self.x, self.y, self.z)\n",
    "class color(vec):\n",
    "    pass"
   ]
  },
  {
   "cell_type": "code",
   "execution_count": 273,
   "metadata": {},
   "outputs": [
    {
     "data": {
      "text/plain": [
       "0.6080388246889575"
      ]
     },
     "execution_count": 273,
     "metadata": {},
     "output_type": "execute_result"
    }
   ],
   "source": [
    "a = vec(1,0,0)\n",
    "b = vec(1,0+0.1,0)\n",
    "a.cosine(b,100)"
   ]
  },
  {
   "cell_type": "code",
   "execution_count": 274,
   "metadata": {},
   "outputs": [],
   "source": [
    "class Sphere:\n",
    "    def __init__(self, center, radius, color, specular = 0, sphere_type = 'default',reflective=0):\n",
    "        self.center = center\n",
    "        self.radius = radius\n",
    "        self.color = color\n",
    "        self.specular = specular\n",
    "        self.type = sphere_type\n",
    "        self.reflective = reflective\n",
    "\n",
    "    def normal(self, outer_point):\n",
    "        return (outer_point - self.center).normalize()"
   ]
  },
  {
   "cell_type": "code",
   "execution_count": 275,
   "metadata": {},
   "outputs": [],
   "source": [
    "class Light:\n",
    "    def __init__(self, light_type, intensity, direction):\n",
    "        self.type = light_type\n",
    "        self.intensity = intensity\n",
    "        self.direction = direction"
   ]
  },
  {
   "cell_type": "code",
   "execution_count": 276,
   "metadata": {},
   "outputs": [],
   "source": [
    "def intersection(O, D, sphere):\n",
    "    a = abs(D)\n",
    "    b = 2 * D.dot(O - sphere.center)\n",
    "    c = abs(O - sphere.center) - (sphere.radius * sphere.radius)\n",
    "    disc = (b ** 2) - (4 * a *c)\n",
    "    h0, h1 = np.inf, np.inf\n",
    "    if disc > 0:\n",
    "        h0 = (-b - np.sqrt(disc)) / (2*a)\n",
    "        h1 = (-b + np.sqrt(disc)) / (2*a) \n",
    "        h0, h1 = min(h0, h1), max(h0, h1)\n",
    "        if h1 >= 0:\n",
    "            return h1 if h0 < 0 else h0\n",
    "    return np.inf"
   ]
  },
  {
   "cell_type": "code",
   "execution_count": 277,
   "metadata": {},
   "outputs": [],
   "source": [
    "def nearest_intersection(O, D, scene):\n",
    "    nearest = np.inf\n",
    "    nearest_sphere = None\n",
    "    for sphere in scene[0]:\n",
    "        dist = intersection(O, D, sphere)\n",
    "        if dist<nearest:\n",
    "            nearest = dist\n",
    "            nearest_sphere = sphere\n",
    "    return nearest_sphere, nearest"
   ]
  },
  {
   "cell_type": "code",
   "execution_count": 278,
   "metadata": {},
   "outputs": [],
   "source": [
    "def refl_ligth(L, N):\n",
    "    return N*N.dot(L)*2 - L\n",
    "def calc_light(P, N, V, specular):\n",
    "    intensity = 0\n",
    "    for light in scene[1]:\n",
    "        if light.type == 'ambient':\n",
    "            intensity += light.intensity\n",
    "        else:\n",
    "            L = light.direction - P\n",
    "                \n",
    "            shadow_sphere, shadow_t = nearest_intersection(P+L*0.0001, L, scene)\n",
    "            if shadow_t != np.inf:\n",
    "                if shadow_sphere.type == 'default':\n",
    "                    continue\n",
    "                 \n",
    "            n_dot_l = N.dot(L)\n",
    "            if n_dot_l > 0:\n",
    "                intensity += light.intensity*n_dot_l/(N.length()*L.length())\n",
    "             \n",
    "            \n",
    "            if specular != 0:\n",
    "                R = refl_ligth(L, N)\n",
    "                r_dot_v = R.dot(V)\n",
    "                if r_dot_v > 0:\n",
    "                    intensity += light.intensity*pow(r_dot_v/(R.length()*V.length()), specular)\n",
    "            \n",
    "    return intensity"
   ]
  },
  {
   "cell_type": "code",
   "execution_count": 279,
   "metadata": {},
   "outputs": [],
   "source": [
    "def trace_ray(O, D, scene, recursion_depth=3):\n",
    "    nearest_sphere, nearest = nearest_intersection(O, D, scene)\n",
    "    cross = O + D*nearest\n",
    "    if nearest_sphere != None:\n",
    "        if nearest_sphere.type!='default':\n",
    "            return nearest_sphere.color\n",
    "        local_color = nearest_sphere.color*calc_light(cross, nearest_sphere.normal(cross), D*-1, nearest_sphere.specular)\n",
    "        \n",
    "        r = nearest_sphere.reflective\n",
    "        if (recursion_depth <= 0) or (r <= 0):\n",
    "            return local_color\n",
    "\n",
    "        R = refl_ligth(D*-1, nearest_sphere.normal(cross))\n",
    "        split_rays = [vec(R.x+0.1,R.y,R.z),\n",
    "                      vec(R.x,R.y+0.1,R.z),\n",
    "                      vec(R.x,R.y,R.z+0.1)] \n",
    "        cosines = [(R-cross).cosine(split_rays[0]-cross,100),\n",
    "                  (R-cross).cosine(split_rays[1]-cross,100),\n",
    "                  (R-cross).cosine(split_rays[2]-cross,100)]\n",
    "        reflected_color = (trace_ray(cross+R*0.001, R, scene,recursion_depth - 1)+\\\n",
    "                            trace_ray(cross+R*0.001, split_rays[0], scene,recursion_depth - 1)*cosines[0]+\\\n",
    "                            trace_ray(cross+R*0.001, split_rays[1], scene,recursion_depth - 1)*cosines[1]+\\\n",
    "                            trace_ray(cross+R*0.001, split_rays[2], scene,recursion_depth - 1)*cosines[2])*\\\n",
    "                            (1/(1+sum(cosines)))\n",
    "            \n",
    "\n",
    "        return local_color*(1 - r) + reflected_color*r\n",
    "    return color(0, 0, 0)"
   ]
  },
  {
   "cell_type": "code",
   "execution_count": 286,
   "metadata": {},
   "outputs": [],
   "source": [
    "(w,h) = (900, 900)\n",
    "screen = (-1, -1 * (h / w), 1, 1 * (h / w))\n",
    "O = vec(0, 0, 0)\n",
    "img = np.zeros((h, w, 3))"
   ]
  },
  {
   "cell_type": "code",
   "execution_count": 281,
   "metadata": {},
   "outputs": [],
   "source": [
    "scene = [[\n",
    "    Sphere(vec(0.9, 0, 3), 0.4, color(1, 0, 0), specular = 0,reflective=0.6),\n",
    "    Sphere(vec(-0.9, 0, 3), 0.4, color(0, 1, 0),specular = 10,reflective=0.4),\n",
    "    Sphere(vec(0, 0, 2.2), 0.5, color(0, 0, 1), specular = 1000,reflective=0.2),\n",
    "    Sphere(vec(0.7, 0.7, 2), 0.1, color(1, 1, 1), specular = 0, sphere_type = 'ligntning'),\n",
    "    Sphere(vec(0, -99999.5, 3), 99999, color(0.2, 0.5, 1), specular = 0),\n",
    "    ],\n",
    "    [Light('ambient', 0.2, vec(0, 0, 0)),\n",
    "#      Light('point', 0.6, vec(2, 2, 0)),\n",
    "     Light('point', 0.2, vec(0.7-0.1, 0.7, 2)),\n",
    "     Light('point', 0.2, vec(0.7+0.1, 0.7, 2)),\n",
    "     Light('point', 0.2, vec(0.7, 0.7-0.1, 2)),\n",
    "#      Light('point', 0.6, vec(1, 1.8+0.2, 4)),\n",
    "     Light('point', 0.2, vec(0.7, 0.7, 2-0.1)),\n",
    "#      Light('point', 0.2, vec(1, 1.8, 4+0.2)),\n",
    "#      Light('point', 0.6, vec(2, 2, 0)),\n",
    "#      Light('point', 0.3, vec(0, 0, 0)),\n",
    "    ]\n",
    "    ]"
   ]
  },
  {
   "cell_type": "code",
   "execution_count": 287,
   "metadata": {},
   "outputs": [
    {
     "name": "stderr",
     "output_type": "stream",
     "text": [
      "100%|██████████| 900/900 [05:24<00:00,  2.77it/s]\n"
     ]
    },
    {
     "data": {
      "text/plain": [
       "<matplotlib.image.AxesImage at 0x7f92de256b90>"
      ]
     },
     "execution_count": 287,
     "metadata": {},
     "output_type": "execute_result"
    },
    {
     "data": {
      "image/png": "[encoded data removed]",
      "text/plain": [
       "<Figure size 432x288 with 1 Axes>"
      ]
     },
     "metadata": {
      "needs_background": "light"
     },
     "output_type": "display_data"
    }
   ],
   "source": [
    "img = np.zeros((h, w, 3))\n",
    "for i, x in enumerate(tqdm(np.linspace(screen[0], screen[2], w))):\n",
    "    for j, y in enumerate(np.linspace(screen[1], screen[3], h)):\n",
    "        col = np.zeros(3)\n",
    "        D = vec(x, y, 2).normalize()\n",
    "        col[:] = trace_ray(O, D, scene).components()\n",
    "        img[h - j - 1, i, :] = col\n",
    "plt.axis('off')\n",
    "plt.imshow(img)"
   ]
  },
  {
   "cell_type": "code",
   "execution_count": 288,
   "metadata": {},
   "outputs": [],
   "source": [
    "mpimg.imsave(\"out900.png\", img)"
   ]
  }
 ],
 "metadata": {
  "kernelspec": {
   "display_name": "Python 3",
   "language": "python",
   "name": "python3"
  },
  "language_info": {
   "codemirror_mode": {
    "name": "ipython",
    "version": 3
   },
   "file_extension": ".py",
   "mimetype": "text/x-python",
   "name": "python",
   "nbconvert_exporter": "python",
   "pygments_lexer": "ipython3",
   "version": "3.7.9"
  }
 },
 "nbformat": 4,
 "nbformat_minor": 4
}
